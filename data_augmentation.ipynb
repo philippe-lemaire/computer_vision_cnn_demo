{
 "cells": [
  {
   "cell_type": "code",
   "execution_count": 1,
   "id": "1ef90a90-23e2-496b-9801-c9d85b6e76fe",
   "metadata": {},
   "outputs": [],
   "source": [
    "from get_data import get_training_data\n",
    "#from data_augmentation import get_augmented_data\n",
    "import numpy as np\n",
    "from cv2 import rotate\n",
    "from data_augmentation import get_augmented_data"
   ]
  },
  {
   "cell_type": "code",
   "execution_count": 2,
   "id": "6d57816c-d250-4b10-98ee-6600539a6c7a",
   "metadata": {},
   "outputs": [],
   "source": [
    "from plots import show_grid"
   ]
  },
  {
   "cell_type": "code",
   "execution_count": 3,
   "id": "957f4631-bf66-4009-bedb-fc3983e57835",
   "metadata": {},
   "outputs": [],
   "source": [
    "import matplotlib.pyplot as plt"
   ]
  },
  {
   "cell_type": "code",
   "execution_count": 4,
   "id": "f84f6505-1ff8-464b-afb5-8e0f577f77aa",
   "metadata": {},
   "outputs": [
    {
     "name": "stdout",
     "output_type": "stream",
     "text": [
      "Fichier déjà présent\n"
     ]
    }
   ],
   "source": [
    "X,y = get_training_data()"
   ]
  },
  {
   "cell_type": "code",
   "execution_count": 5,
   "id": "d3c17849",
   "metadata": {},
   "outputs": [
    {
     "data": {
      "text/plain": [
       "(42000, 28, 28, 1)"
      ]
     },
     "execution_count": 5,
     "metadata": {},
     "output_type": "execute_result"
    }
   ],
   "source": [
    "X.shape"
   ]
  },
  {
   "cell_type": "code",
   "execution_count": 6,
   "id": "860a5d63",
   "metadata": {},
   "outputs": [
    {
     "data": {
      "text/plain": [
       "(42000,)"
      ]
     },
     "execution_count": 6,
     "metadata": {},
     "output_type": "execute_result"
    }
   ],
   "source": [
    "y.shape"
   ]
  },
  {
   "cell_type": "code",
   "execution_count": null,
   "id": "38661ef2",
   "metadata": {},
   "outputs": [],
   "source": []
  },
  {
   "cell_type": "code",
   "execution_count": 7,
   "id": "63a68b97",
   "metadata": {},
   "outputs": [],
   "source": [
    "X, y = get_augmented_data(X, y)"
   ]
  },
  {
   "cell_type": "code",
   "execution_count": 8,
   "id": "238e7f95",
   "metadata": {},
   "outputs": [
    {
     "data": {
      "text/plain": [
       "(168000, 28, 28, 1)"
      ]
     },
     "execution_count": 8,
     "metadata": {},
     "output_type": "execute_result"
    }
   ],
   "source": [
    "X.shape"
   ]
  },
  {
   "cell_type": "code",
   "execution_count": 9,
   "id": "cba29215",
   "metadata": {},
   "outputs": [
    {
     "data": {
      "text/plain": [
       "(168000,)"
      ]
     },
     "execution_count": 9,
     "metadata": {},
     "output_type": "execute_result"
    }
   ],
   "source": [
    "y.shape"
   ]
  },
  {
   "cell_type": "code",
   "execution_count": null,
   "id": "b31d2be6",
   "metadata": {},
   "outputs": [],
   "source": []
  }
 ],
 "metadata": {
  "kernelspec": {
   "display_name": "Python 3 (ipykernel)",
   "language": "python",
   "name": "python3"
  },
  "language_info": {
   "codemirror_mode": {
    "name": "ipython",
    "version": 3
   },
   "file_extension": ".py",
   "mimetype": "text/x-python",
   "name": "python",
   "nbconvert_exporter": "python",
   "pygments_lexer": "ipython3",
   "version": "3.11.4"
  }
 },
 "nbformat": 4,
 "nbformat_minor": 5
}
